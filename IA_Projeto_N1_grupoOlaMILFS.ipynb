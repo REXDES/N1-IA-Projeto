{
  "nbformat": 4,
  "nbformat_minor": 0,
  "metadata": {
    "kernelspec": {
      "display_name": "Python 3",
      "language": "python",
      "name": "python3"
    },
    "language_info": {
      "codemirror_mode": {
        "name": "ipython",
        "version": 3
      },
      "file_extension": ".py",
      "mimetype": "text/x-python",
      "name": "python",
      "nbconvert_exporter": "python",
      "pygments_lexer": "ipython3",
      "version": "3.7.4"
    },
    "colab": {
      "name": "IA_Projeto_N1_template.ipynb",
      "provenance": [],
      "collapsed_sections": []
    }
  },
  "cells": [
    {
      "cell_type": "markdown",
      "metadata": {
        "id": "40b90843"
      },
      "source": [
        "<img src=\"http://meusite.mackenzie.br/rogerio/mackenzie_logo/UPM.2_horizontal_vermelho.jpg\"  width=300, align=\"right\">\n",
        "<br>\n",
        "<br>\n",
        "<br>\n",
        "<br>\n",
        "<br>\n",
        "\n",
        "# ***Título do seu projeto***\n",
        "---"
      ]
    },
    {
      "cell_type": "markdown",
      "source": [
        "*Siga esse template para entrega do seu projeto. O código deste notebook precisa ser 100% executável.*"
      ],
      "metadata": {
        "id": "Ikv-pBzr9bNu"
      }
    },
    {
      "cell_type": "code",
      "metadata": {
        "id": "rYx9D4GZA5o9"
      },
      "source": [
        "#@title Identificação do Grupo\n",
        "\n",
        "#@markdown Turma **7N**\n",
        "\n",
        "#@markdown Integrantes do Grupo (*informe \\<TIA\\>,\\<nome\\>*)\n",
        "Aluno1 = '31944043, Giancarlo Ponte Gamberi' #@param {type:\"string\"} \n",
        "Aluno2 = ' 31938698, Rone Tadeu Filho' #@param {type:\"string\"}\n",
        "Aluno3 = 'None' #@param {type:\"string\"}\n",
        "Aluno4 = 'None' #@param {type:\"string\"}\n",
        "Aluno5 = 'None' #@param {type:\"string\"}"
      ],
      "execution_count": 1,
      "outputs": []
    },
    {
      "cell_type": "markdown",
      "metadata": {
        "id": "A4-f8AtfKAn2"
      },
      "source": [
        "# Apresentação do Trabalho\n",
        "\n",
        "*Apresente resumidamente o trabalho justificando a escolha dos dados.*"
      ]
    },
    {
      "cell_type": "markdown",
      "source": [
        "# Referencial Teórico\n",
        "\n",
        "*Resuma aqui referências sobre o uso da regressão linear $times$ regressão logística na classificação de dados.* "
      ],
      "metadata": {
        "id": "7LtXrRFr4hg3"
      }
    },
    {
      "cell_type": "markdown",
      "metadata": {
        "id": "xGFJyOm1Kdtd"
      },
      "source": [
        "# Base de Dados \n",
        "\n",
        "*Descreva aqui os dados utilizados, discuta eventuais transformações e/ou seleções dos dados e preparações nos dados.* \n",
        "\n",
        "\n",
        "\n"
      ]
    },
    {
      "cell_type": "markdown",
      "source": [
        "Selecionamos uma base de dados que contem o preco de stock em tempo real da empresa IBM das datas: 06-04-2020 - 25-03-2022,\n",
        "\n",
        "Um dos motivos de ter sido escolhida para este trabalho, eh o fato de ser uma base quase inteiramente numerica, como unico desafio sendo elaborar uma coluna classificativa, que no caso sera se uma acao fechara em alta ou nao, \n",
        "('superavit': 0,1)"
      ],
      "metadata": {
        "id": "klyz8zxao0tl"
      }
    },
    {
      "cell_type": "code",
      "source": [
        "# importacoes\n",
        "import pandas                  as pd\n",
        "import numpy                   as np\n",
        "import matplotlib.pyplot       as plt\n",
        "import warnings\n",
        "import os\n",
        "import seaborn as sns\n",
        "import statsmodels.formula.api as sm\n",
        "from sklearn.model_selection import train_test_split\n",
        "from sklearn.linear_model import LogisticRegression\n",
        "warnings.filterwarnings(\"ignore\")"
      ],
      "metadata": {
        "id": "lGsRvr-IxOxo"
      },
      "execution_count": 31,
      "outputs": []
    },
    {
      "cell_type": "code",
      "source": [
        "# Codigo utilizado inicialmente para carregar o arquivo do kaggle\n",
        "\n",
        "# *Verificar se o arquivo kaggle.json esta presente antes de prosseguir para execucao, caso nao, gerar um token de API no keggle e carregar o arquivo\n",
        "\n",
        "# tutorial:\n",
        "# https://www.analyticsvidhya.com/blog/2021/06/how-to-load-kaggle-datasets-directly-into-google-colab/\n",
        "\n",
        "# #importacao dos dados\n",
        "\n",
        "# ! pip install kaggle\n",
        "# ! mkdir ~/.kaggle\n",
        "# ! cp kaggle.json ~/.kaggle/\n",
        "# ! chmod 600 ~/.kaggle/kaggle.json\n",
        "# ! kaggle datasets download -d bhanuprasanna527/stock-market-prediction\n",
        "# ! unzip /content/stock-market-prediction.zip\n"
      ],
      "metadata": {
        "id": "V_X2jqpl3UWA"
      },
      "execution_count": 30,
      "outputs": []
    },
    {
      "cell_type": "code",
      "source": [
        "#abrindo CSV\n",
        "IBM = pd.read_csv('https://raw.githubusercontent.com/REXDES/N1-IA-Projeto/main/2%20Year%20IBM%20Stock%20Data.csv')\n",
        "\n",
        "#removendo nulos\n",
        "IBM = IBM.dropna()\n",
        "\n",
        "# Adicionando coluna superavit, que classifica binariamente se uma acao subiu ou nao, em relacao ao preco de abertura e fechamento do dia\n",
        "IBM['superavit'] = (IBM['close']>IBM['open'])/1\n",
        "\n",
        "IBM.head()\n"
      ],
      "metadata": {
        "id": "y2JL4rDXoqxT",
        "outputId": "923cd326-17c8-48f2-9fe6-871172cfec8d",
        "colab": {
          "base_uri": "https://localhost:8080/",
          "height": 206
        }
      },
      "execution_count": 35,
      "outputs": [
        {
          "output_type": "execute_result",
          "data": {
            "text/plain": [
              "              time     open    high      low   close  volume  superavit\n",
              "0  3/25/2022 19:19  131.300  131.30  131.300  131.30     718        0.0\n",
              "1  3/25/2022 19:18  131.300  131.30  131.300  131.30     282        0.0\n",
              "2  3/25/2022 17:50  131.300  131.30  131.300  131.30     100        0.0\n",
              "3  3/25/2022 16:59  131.340  131.35  131.340  131.35    1427        1.0\n",
              "4  3/25/2022 16:42  131.326  131.35  131.326  131.35    1326        1.0"
            ],
            "text/html": [
              "\n",
              "  <div id=\"df-97b0f6aa-a3a2-4046-a743-069791b9d1ad\">\n",
              "    <div class=\"colab-df-container\">\n",
              "      <div>\n",
              "<style scoped>\n",
              "    .dataframe tbody tr th:only-of-type {\n",
              "        vertical-align: middle;\n",
              "    }\n",
              "\n",
              "    .dataframe tbody tr th {\n",
              "        vertical-align: top;\n",
              "    }\n",
              "\n",
              "    .dataframe thead th {\n",
              "        text-align: right;\n",
              "    }\n",
              "</style>\n",
              "<table border=\"1\" class=\"dataframe\">\n",
              "  <thead>\n",
              "    <tr style=\"text-align: right;\">\n",
              "      <th></th>\n",
              "      <th>time</th>\n",
              "      <th>open</th>\n",
              "      <th>high</th>\n",
              "      <th>low</th>\n",
              "      <th>close</th>\n",
              "      <th>volume</th>\n",
              "      <th>superavit</th>\n",
              "    </tr>\n",
              "  </thead>\n",
              "  <tbody>\n",
              "    <tr>\n",
              "      <th>0</th>\n",
              "      <td>3/25/2022 19:19</td>\n",
              "      <td>131.300</td>\n",
              "      <td>131.30</td>\n",
              "      <td>131.300</td>\n",
              "      <td>131.30</td>\n",
              "      <td>718</td>\n",
              "      <td>0.0</td>\n",
              "    </tr>\n",
              "    <tr>\n",
              "      <th>1</th>\n",
              "      <td>3/25/2022 19:18</td>\n",
              "      <td>131.300</td>\n",
              "      <td>131.30</td>\n",
              "      <td>131.300</td>\n",
              "      <td>131.30</td>\n",
              "      <td>282</td>\n",
              "      <td>0.0</td>\n",
              "    </tr>\n",
              "    <tr>\n",
              "      <th>2</th>\n",
              "      <td>3/25/2022 17:50</td>\n",
              "      <td>131.300</td>\n",
              "      <td>131.30</td>\n",
              "      <td>131.300</td>\n",
              "      <td>131.30</td>\n",
              "      <td>100</td>\n",
              "      <td>0.0</td>\n",
              "    </tr>\n",
              "    <tr>\n",
              "      <th>3</th>\n",
              "      <td>3/25/2022 16:59</td>\n",
              "      <td>131.340</td>\n",
              "      <td>131.35</td>\n",
              "      <td>131.340</td>\n",
              "      <td>131.35</td>\n",
              "      <td>1427</td>\n",
              "      <td>1.0</td>\n",
              "    </tr>\n",
              "    <tr>\n",
              "      <th>4</th>\n",
              "      <td>3/25/2022 16:42</td>\n",
              "      <td>131.326</td>\n",
              "      <td>131.35</td>\n",
              "      <td>131.326</td>\n",
              "      <td>131.35</td>\n",
              "      <td>1326</td>\n",
              "      <td>1.0</td>\n",
              "    </tr>\n",
              "  </tbody>\n",
              "</table>\n",
              "</div>\n",
              "      <button class=\"colab-df-convert\" onclick=\"convertToInteractive('df-97b0f6aa-a3a2-4046-a743-069791b9d1ad')\"\n",
              "              title=\"Convert this dataframe to an interactive table.\"\n",
              "              style=\"display:none;\">\n",
              "        \n",
              "  <svg xmlns=\"http://www.w3.org/2000/svg\" height=\"24px\"viewBox=\"0 0 24 24\"\n",
              "       width=\"24px\">\n",
              "    <path d=\"M0 0h24v24H0V0z\" fill=\"none\"/>\n",
              "    <path d=\"M18.56 5.44l.94 2.06.94-2.06 2.06-.94-2.06-.94-.94-2.06-.94 2.06-2.06.94zm-11 1L8.5 8.5l.94-2.06 2.06-.94-2.06-.94L8.5 2.5l-.94 2.06-2.06.94zm10 10l.94 2.06.94-2.06 2.06-.94-2.06-.94-.94-2.06-.94 2.06-2.06.94z\"/><path d=\"M17.41 7.96l-1.37-1.37c-.4-.4-.92-.59-1.43-.59-.52 0-1.04.2-1.43.59L10.3 9.45l-7.72 7.72c-.78.78-.78 2.05 0 2.83L4 21.41c.39.39.9.59 1.41.59.51 0 1.02-.2 1.41-.59l7.78-7.78 2.81-2.81c.8-.78.8-2.07 0-2.86zM5.41 20L4 18.59l7.72-7.72 1.47 1.35L5.41 20z\"/>\n",
              "  </svg>\n",
              "      </button>\n",
              "      \n",
              "  <style>\n",
              "    .colab-df-container {\n",
              "      display:flex;\n",
              "      flex-wrap:wrap;\n",
              "      gap: 12px;\n",
              "    }\n",
              "\n",
              "    .colab-df-convert {\n",
              "      background-color: #E8F0FE;\n",
              "      border: none;\n",
              "      border-radius: 50%;\n",
              "      cursor: pointer;\n",
              "      display: none;\n",
              "      fill: #1967D2;\n",
              "      height: 32px;\n",
              "      padding: 0 0 0 0;\n",
              "      width: 32px;\n",
              "    }\n",
              "\n",
              "    .colab-df-convert:hover {\n",
              "      background-color: #E2EBFA;\n",
              "      box-shadow: 0px 1px 2px rgba(60, 64, 67, 0.3), 0px 1px 3px 1px rgba(60, 64, 67, 0.15);\n",
              "      fill: #174EA6;\n",
              "    }\n",
              "\n",
              "    [theme=dark] .colab-df-convert {\n",
              "      background-color: #3B4455;\n",
              "      fill: #D2E3FC;\n",
              "    }\n",
              "\n",
              "    [theme=dark] .colab-df-convert:hover {\n",
              "      background-color: #434B5C;\n",
              "      box-shadow: 0px 1px 3px 1px rgba(0, 0, 0, 0.15);\n",
              "      filter: drop-shadow(0px 1px 2px rgba(0, 0, 0, 0.3));\n",
              "      fill: #FFFFFF;\n",
              "    }\n",
              "  </style>\n",
              "\n",
              "      <script>\n",
              "        const buttonEl =\n",
              "          document.querySelector('#df-97b0f6aa-a3a2-4046-a743-069791b9d1ad button.colab-df-convert');\n",
              "        buttonEl.style.display =\n",
              "          google.colab.kernel.accessAllowed ? 'block' : 'none';\n",
              "\n",
              "        async function convertToInteractive(key) {\n",
              "          const element = document.querySelector('#df-97b0f6aa-a3a2-4046-a743-069791b9d1ad');\n",
              "          const dataTable =\n",
              "            await google.colab.kernel.invokeFunction('convertToInteractive',\n",
              "                                                     [key], {});\n",
              "          if (!dataTable) return;\n",
              "\n",
              "          const docLinkHtml = 'Like what you see? Visit the ' +\n",
              "            '<a target=\"_blank\" href=https://colab.research.google.com/notebooks/data_table.ipynb>data table notebook</a>'\n",
              "            + ' to learn more about interactive tables.';\n",
              "          element.innerHTML = '';\n",
              "          dataTable['output_type'] = 'display_data';\n",
              "          await google.colab.output.renderOutput(dataTable, element);\n",
              "          const docLink = document.createElement('div');\n",
              "          docLink.innerHTML = docLinkHtml;\n",
              "          element.appendChild(docLink);\n",
              "        }\n",
              "      </script>\n",
              "    </div>\n",
              "  </div>\n",
              "  "
            ]
          },
          "metadata": {},
          "execution_count": 35
        }
      ]
    },
    {
      "cell_type": "markdown",
      "metadata": {
        "id": "c8-GAboQLMaN"
      },
      "source": [
        "# Modelo de Regressão Linear\n",
        "\n",
        "*Descreva aqui as variáveis dependentes e independentes empregadas e eventuais transformações nas variáveis.*\n"
      ]
    },
    {
      "cell_type": "code",
      "source": [
        "# separando modelo para treinamento/teste\n",
        "X_train, X_test, y_train, y_test = train_test_split(IBM.drop(columns=['superavit']), IBM.superavit, test_size=0.3, stratify=IBM.superavit, random_state=1984)\n",
        "\n",
        "# Base de teste para ser carregada no Modelo\n",
        "IBMLin = pd.concat([X_train, y_train],axis=1)\n",
        "\n",
        "print(IBMLin)"
      ],
      "metadata": {
        "id": "CaAhVH3mqrZ4",
        "outputId": "de55314d-2171-497a-a4aa-52d3a2ebb261",
        "colab": {
          "base_uri": "https://localhost:8080/"
        }
      },
      "execution_count": 36,
      "outputs": [
        {
          "output_type": "stream",
          "name": "stdout",
          "text": [
            "                    time        open        high         low       close  \\\n",
            "20191    1/19/2022 14:50  130.674945  130.704581  130.665067  130.694703   \n",
            "188163    7/9/2020 11:02  101.269504  101.321998  101.103274  101.164517   \n",
            "47863   10/20/2021 12:37  132.144763  132.163399  132.126128  132.126128   \n",
            "134821  12/31/2020 15:30  112.783396  112.783666  112.765420  112.765420   \n",
            "188931    7/7/2020 12:33  103.714846  103.771714  103.704434  103.736718   \n",
            "...                  ...         ...         ...         ...         ...   \n",
            "208301    5/1/2020 14:44  105.135910  105.135910  105.088429  105.088429   \n",
            "10258    2/18/2022 14:26  124.750000  124.830000  124.660000  124.660000   \n",
            "145538  11/23/2020 13:45  107.678123  107.709581  107.651158  107.660147   \n",
            "149532  11/10/2020 11:46  105.835551  105.855145  105.763645  105.763645   \n",
            "91421    5/24/2021 11:42  133.409763  133.465028  133.409763  133.460423   \n",
            "\n",
            "        volume  superavit  \n",
            "20191     5472        1.0  \n",
            "188163   15082        0.0  \n",
            "47863     6231        0.0  \n",
            "134821    7662        0.0  \n",
            "188931    4473        1.0  \n",
            "...        ...        ...  \n",
            "208301    3825        0.0  \n",
            "10258     8976        0.0  \n",
            "145538   14028        0.0  \n",
            "149532    9104        0.0  \n",
            "91421     9888        1.0  \n",
            "\n",
            "[151818 rows x 7 columns]\n"
          ]
        }
      ]
    },
    {
      "cell_type": "code",
      "source": [
        "# Modelo, formula utilizada sendo 'superavit <- open + close'\n",
        "model = sm.ols(formula=\"superavit ~ open + close \", data=IBMLin)\n",
        "\n",
        "result = model.fit()\n",
        "print(result.summary())"
      ],
      "metadata": {
        "id": "qT6s0LFY3zQ3",
        "outputId": "3df8f694-0035-4b2d-d691-c2d0b36ec333",
        "colab": {
          "base_uri": "https://localhost:8080/"
        }
      },
      "execution_count": 37,
      "outputs": [
        {
          "output_type": "stream",
          "name": "stdout",
          "text": [
            "                            OLS Regression Results                            \n",
            "==============================================================================\n",
            "Dep. Variable:              superavit   R-squared:                       0.335\n",
            "Model:                            OLS   Adj. R-squared:                  0.335\n",
            "Method:                 Least Squares   F-statistic:                 3.826e+04\n",
            "Date:                Wed, 06 Apr 2022   Prob (F-statistic):               0.00\n",
            "Time:                        22:45:58   Log-Likelihood:                -78065.\n",
            "No. Observations:              151818   AIC:                         1.561e+05\n",
            "Df Residuals:                  151815   BIC:                         1.562e+05\n",
            "Df Model:                           2                                         \n",
            "Covariance Type:            nonrobust                                         \n",
            "==============================================================================\n",
            "                 coef    std err          t      P>|t|      [0.025      0.975]\n",
            "------------------------------------------------------------------------------\n",
            "Intercept      0.4086      0.011     36.424      0.000       0.387       0.431\n",
            "open          -3.5354      0.013   -276.575      0.000      -3.560      -3.510\n",
            "close          3.5356      0.013    276.603      0.000       3.511       3.561\n",
            "==============================================================================\n",
            "Omnibus:                    60626.965   Durbin-Watson:                   2.002\n",
            "Prob(Omnibus):                  0.000   Jarque-Bera (JB):         15518168.984\n",
            "Skew:                          -0.717   Prob(JB):                         0.00\n",
            "Kurtosis:                      52.509   Cond. No.                     2.93e+03\n",
            "==============================================================================\n",
            "\n",
            "Warnings:\n",
            "[1] Standard Errors assume that the covariance matrix of the errors is correctly specified.\n",
            "[2] The condition number is large, 2.93e+03. This might indicate that there are\n",
            "strong multicollinearity or other numerical problems.\n"
          ]
        }
      ]
    },
    {
      "cell_type": "markdown",
      "source": [
        "## Análise do Modelo Linear"
      ],
      "metadata": {
        "id": "xQFjTcSNzX83"
      }
    },
    {
      "cell_type": "markdown",
      "source": [
        "Como os dados de predicao retornam valores quebrados fload, vamos considerar predicoes maiores que 0.5 como sendo a classe 1, enquanto predicoes menores ou iguais que 0.5 como sendo da classe 0"
      ],
      "metadata": {
        "id": "Naffl17A-FfM"
      }
    },
    {
      "cell_type": "code",
      "source": [
        "y_pred = result.predict(X_test)\n",
        "\n",
        "#retornando os dados float para binariedade\n",
        "y_pred = (y_pred > 0.5)/1\n",
        "\n",
        "#visualizacao dos dados\n",
        "print (y_pred.head())\n",
        "print (y_test.head())\n",
        "\n",
        "# acuracidade\n",
        "print (sum(y_pred==y_test)/len(y_pred))"
      ],
      "metadata": {
        "id": "9WNBcFRAzcxV",
        "outputId": "b5b74228-32c6-4154-d69f-1ecd92a581b9",
        "colab": {
          "base_uri": "https://localhost:8080/"
        }
      },
      "execution_count": 38,
      "outputs": [
        {
          "output_type": "stream",
          "name": "stdout",
          "text": [
            "80166     1.0\n",
            "85089     1.0\n",
            "185902    0.0\n",
            "159588    1.0\n",
            "67086     0.0\n",
            "dtype: float64\n",
            "80166     1.0\n",
            "85089     1.0\n",
            "185902    0.0\n",
            "159588    1.0\n",
            "67086     0.0\n",
            "Name: superavit, dtype: float64\n",
            "0.8901867363405825\n"
          ]
        }
      ]
    },
    {
      "cell_type": "markdown",
      "source": [
        "## Discussão dos Resultados do Modelo Linear\n",
        "\n",
        "*Discuta aqui os resultados obtidos no modelo.*\n"
      ],
      "metadata": {
        "id": "njT66C0T39LA"
      }
    },
    {
      "cell_type": "markdown",
      "source": [
        ""
      ],
      "metadata": {
        "id": "qQcQH-9EF_53"
      }
    },
    {
      "cell_type": "markdown",
      "metadata": {
        "id": "izbgP-6A4PQX"
      },
      "source": [
        "# Modelo Logístico\n",
        "\n",
        "*Descreva aqui as variáveis dependentes e independentes empregadas e eventuais transformações nas variáveis.*\n"
      ]
    },
    {
      "cell_type": "code",
      "source": [
        "IBMLog = IBM[['superavit','open','close']]\n",
        "\n",
        "#separando modelo para treinamento/teste\n",
        "X_train, X_test, y_train, y_test = train_test_split(IBMLog.drop(columns=['superavit']), IBMLog.superavit, test_size=0.3, stratify=IBMLog.superavit, random_state=1984)\n",
        "\n",
        "logreg = LogisticRegression()\n",
        "logreg.fit(X_train,y_train)"
      ],
      "metadata": {
        "id": "BM6yRuf44PQX",
        "outputId": "2063a484-65dd-45cd-c1e9-7c5e62302a4a",
        "colab": {
          "base_uri": "https://localhost:8080/"
        }
      },
      "execution_count": 39,
      "outputs": [
        {
          "output_type": "execute_result",
          "data": {
            "text/plain": [
              "LogisticRegression()"
            ]
          },
          "metadata": {},
          "execution_count": 39
        }
      ]
    },
    {
      "cell_type": "markdown",
      "source": [
        "## Análise do Modelo Logístico"
      ],
      "metadata": {
        "id": "xaLMajyL4PQY"
      }
    },
    {
      "cell_type": "code",
      "source": [
        "y_pred=logreg.predict(X_test)\n",
        "\n",
        "print (y_pred)\n",
        "print (y_test)\n",
        "\n",
        "print (sum(y_pred==y_test)/len(y_pred))"
      ],
      "metadata": {
        "id": "UGyRFZCy4PQY",
        "outputId": "aa84a278-fbe7-46a9-df97-8fa73951e08d",
        "colab": {
          "base_uri": "https://localhost:8080/"
        }
      },
      "execution_count": 40,
      "outputs": [
        {
          "output_type": "stream",
          "name": "stdout",
          "text": [
            "[1. 1. 0. ... 0. 1. 1.]\n",
            "80166     1.0\n",
            "85089     1.0\n",
            "185902    0.0\n",
            "159588    1.0\n",
            "67086     0.0\n",
            "         ... \n",
            "20686     0.0\n",
            "20435     1.0\n",
            "203216    0.0\n",
            "165705    1.0\n",
            "107179    1.0\n",
            "Name: superavit, Length: 65065, dtype: float64\n",
            "0.9745946361330977\n"
          ]
        }
      ]
    },
    {
      "cell_type": "markdown",
      "source": [
        "## Discussão dos Resultados do Modelo Logístico\n",
        "\n",
        "*Discuta aqui os resultados obtidos no modelo.*\n"
      ],
      "metadata": {
        "id": "t6VNHEBt4PQY"
      }
    },
    {
      "cell_type": "code",
      "source": [
        "# seu código"
      ],
      "metadata": {
        "id": "U7bM0KJKzlAF"
      },
      "execution_count": null,
      "outputs": []
    },
    {
      "cell_type": "markdown",
      "metadata": {
        "id": "9kwoGZeSLRsX"
      },
      "source": [
        "# Conclusão \n",
        "\n",
        "*Apresente a conclusão do seu estudo comparando ainda os resultados obtidos com o referencial teórico apresentado.*\n",
        "\n"
      ]
    },
    {
      "cell_type": "markdown",
      "source": [
        "# Referências \n",
        "\n",
        "*Indique as referências empregadas, incluindo as fontes de dados.*\n",
        "\n",
        "Fonte de dados:\n",
        "https://www.kaggle.com/datasets/bhanuprasanna527/stock-market-prediction\n",
        "\n",
        "Notebooks referencia e referencial teorico:\n",
        "https://github.com/Rogerio-mack/IA_2022_1S/blob/main/README.md\n",
        "\n",
        "Tutorial utilizado incialmente para carregar o arquivo csv do kaggle:\n",
        "https://www.analyticsvidhya.com/blog/2021/06/how-to-load-kaggle-datasets-directly-into-google-colab/"
      ],
      "metadata": {
        "id": "hc0rg9YSzRz9"
      }
    },
    {
      "cell_type": "markdown",
      "metadata": {
        "id": "8crUBC3IQ3U_"
      },
      "source": [
        "---"
      ]
    },
    {
      "cell_type": "code",
      "metadata": {
        "id": "BluFtfHuCGzm",
        "cellView": "form"
      },
      "source": [
        "#@title Avaliação\n",
        "Completo = 10 #@param {type:\"slider\", min:0, max:10, step:1}\n",
        "#@markdown Projeto cumpre todos os itens pedidos. \n",
        "Relevancia = 9 #@param {type:\"slider\", min:0, max:10, step:1}\n",
        "#@markdown As seleções de dados e eventos para análise são relevantes e justificados. \n",
        "Tecnicas = 6 #@param {type:\"slider\", min:0, max:10, step:1}\n",
        "#@markdown As técnicas de empregadas são adequadas e corretamente aplicadas.\n",
        "Apresentacao = 7 #@param {type:\"slider\", min:0, max:10, step:1}\n",
        "#@markdown A apresentação dos resultados é clara e objetiva.\n",
        "Analise = 8 #@param {type:\"slider\", min:0, max:10, step:1}\n",
        "#@markdown As premissas de análise se justificam e a analise é correta. \n",
        "Conclusao = 7 #@param {type:\"slider\", min:0, max:10, step:1}\n",
        "#@markdown As conclusões são justificadas e relevantes\n",
        "Bonus = 0.5 #@param {type:\"slider\", min:0, max:1, step:0.5}\n",
        "#@markdown A critério do professor por inovações na abordagem e no uso de técnicas de Análise de Dados\n",
        "\n",
        "\n",
        "\n",
        "\n",
        "\n",
        "\n"
      ],
      "execution_count": null,
      "outputs": []
    },
    {
      "cell_type": "code",
      "metadata": {
        "colab": {
          "base_uri": "https://localhost:8080/",
          "height": 148
        },
        "id": "2Gqw7hUZHyle",
        "cellView": "form",
        "outputId": "17dc9379-224b-4a07-e5c3-aa059ba434d8"
      },
      "source": [
        "#@markdown ### Nota Final\n",
        "nota = Completo + Relevancia + Tecnicas + Apresentacao + Analise + Conclusao \n",
        "\n",
        "nota = nota / 6 + Bonus\n",
        "\n",
        "print(f'Nota final do trabalho {nota :.1f}')\n",
        "\n",
        "import numpy as np\n",
        "import pandas as pd\n",
        "\n",
        "alunos = pd.DataFrame()\n",
        "\n",
        "lista_tia = []\n",
        "lista_nome = []\n",
        "\n",
        "for i in range(1,6):\n",
        "  exec(\"if Aluno\" + str(i) + \" !='None':  lista = Aluno\" + str(i) + \".split(','); lista_tia.append(lista[0]); lista_nome.append(lista[1].upper())\")\n",
        "\n",
        "alunos['tia'] = lista_tia\n",
        "alunos['nome'] = lista_nome\n",
        "alunos['nota'] = np.round(nota,1)\n",
        "print()\n",
        "alunos"
      ],
      "execution_count": null,
      "outputs": [
        {
          "output_type": "stream",
          "name": "stdout",
          "text": [
            "Nota final do trabalho 8.3\n",
            "\n"
          ]
        },
        {
          "output_type": "execute_result",
          "data": {
            "text/plain": [
              "       tia              nome  nota\n",
              "0  1115665    ADRIANA FUJITA   8.3\n",
              "1  1115677   DANIEL HENRIQUE   8.3"
            ],
            "text/html": [
              "\n",
              "  <div id=\"df-a9923eb4-545a-4f29-aa29-1fd106203b8f\">\n",
              "    <div class=\"colab-df-container\">\n",
              "      <div>\n",
              "<style scoped>\n",
              "    .dataframe tbody tr th:only-of-type {\n",
              "        vertical-align: middle;\n",
              "    }\n",
              "\n",
              "    .dataframe tbody tr th {\n",
              "        vertical-align: top;\n",
              "    }\n",
              "\n",
              "    .dataframe thead th {\n",
              "        text-align: right;\n",
              "    }\n",
              "</style>\n",
              "<table border=\"1\" class=\"dataframe\">\n",
              "  <thead>\n",
              "    <tr style=\"text-align: right;\">\n",
              "      <th></th>\n",
              "      <th>tia</th>\n",
              "      <th>nome</th>\n",
              "      <th>nota</th>\n",
              "    </tr>\n",
              "  </thead>\n",
              "  <tbody>\n",
              "    <tr>\n",
              "      <th>0</th>\n",
              "      <td>1115665</td>\n",
              "      <td>ADRIANA FUJITA</td>\n",
              "      <td>8.3</td>\n",
              "    </tr>\n",
              "    <tr>\n",
              "      <th>1</th>\n",
              "      <td>1115677</td>\n",
              "      <td>DANIEL HENRIQUE</td>\n",
              "      <td>8.3</td>\n",
              "    </tr>\n",
              "  </tbody>\n",
              "</table>\n",
              "</div>\n",
              "      <button class=\"colab-df-convert\" onclick=\"convertToInteractive('df-a9923eb4-545a-4f29-aa29-1fd106203b8f')\"\n",
              "              title=\"Convert this dataframe to an interactive table.\"\n",
              "              style=\"display:none;\">\n",
              "        \n",
              "  <svg xmlns=\"http://www.w3.org/2000/svg\" height=\"24px\"viewBox=\"0 0 24 24\"\n",
              "       width=\"24px\">\n",
              "    <path d=\"M0 0h24v24H0V0z\" fill=\"none\"/>\n",
              "    <path d=\"M18.56 5.44l.94 2.06.94-2.06 2.06-.94-2.06-.94-.94-2.06-.94 2.06-2.06.94zm-11 1L8.5 8.5l.94-2.06 2.06-.94-2.06-.94L8.5 2.5l-.94 2.06-2.06.94zm10 10l.94 2.06.94-2.06 2.06-.94-2.06-.94-.94-2.06-.94 2.06-2.06.94z\"/><path d=\"M17.41 7.96l-1.37-1.37c-.4-.4-.92-.59-1.43-.59-.52 0-1.04.2-1.43.59L10.3 9.45l-7.72 7.72c-.78.78-.78 2.05 0 2.83L4 21.41c.39.39.9.59 1.41.59.51 0 1.02-.2 1.41-.59l7.78-7.78 2.81-2.81c.8-.78.8-2.07 0-2.86zM5.41 20L4 18.59l7.72-7.72 1.47 1.35L5.41 20z\"/>\n",
              "  </svg>\n",
              "      </button>\n",
              "      \n",
              "  <style>\n",
              "    .colab-df-container {\n",
              "      display:flex;\n",
              "      flex-wrap:wrap;\n",
              "      gap: 12px;\n",
              "    }\n",
              "\n",
              "    .colab-df-convert {\n",
              "      background-color: #E8F0FE;\n",
              "      border: none;\n",
              "      border-radius: 50%;\n",
              "      cursor: pointer;\n",
              "      display: none;\n",
              "      fill: #1967D2;\n",
              "      height: 32px;\n",
              "      padding: 0 0 0 0;\n",
              "      width: 32px;\n",
              "    }\n",
              "\n",
              "    .colab-df-convert:hover {\n",
              "      background-color: #E2EBFA;\n",
              "      box-shadow: 0px 1px 2px rgba(60, 64, 67, 0.3), 0px 1px 3px 1px rgba(60, 64, 67, 0.15);\n",
              "      fill: #174EA6;\n",
              "    }\n",
              "\n",
              "    [theme=dark] .colab-df-convert {\n",
              "      background-color: #3B4455;\n",
              "      fill: #D2E3FC;\n",
              "    }\n",
              "\n",
              "    [theme=dark] .colab-df-convert:hover {\n",
              "      background-color: #434B5C;\n",
              "      box-shadow: 0px 1px 3px 1px rgba(0, 0, 0, 0.15);\n",
              "      filter: drop-shadow(0px 1px 2px rgba(0, 0, 0, 0.3));\n",
              "      fill: #FFFFFF;\n",
              "    }\n",
              "  </style>\n",
              "\n",
              "      <script>\n",
              "        const buttonEl =\n",
              "          document.querySelector('#df-a9923eb4-545a-4f29-aa29-1fd106203b8f button.colab-df-convert');\n",
              "        buttonEl.style.display =\n",
              "          google.colab.kernel.accessAllowed ? 'block' : 'none';\n",
              "\n",
              "        async function convertToInteractive(key) {\n",
              "          const element = document.querySelector('#df-a9923eb4-545a-4f29-aa29-1fd106203b8f');\n",
              "          const dataTable =\n",
              "            await google.colab.kernel.invokeFunction('convertToInteractive',\n",
              "                                                     [key], {});\n",
              "          if (!dataTable) return;\n",
              "\n",
              "          const docLinkHtml = 'Like what you see? Visit the ' +\n",
              "            '<a target=\"_blank\" href=https://colab.research.google.com/notebooks/data_table.ipynb>data table notebook</a>'\n",
              "            + ' to learn more about interactive tables.';\n",
              "          element.innerHTML = '';\n",
              "          dataTable['output_type'] = 'display_data';\n",
              "          await google.colab.output.renderOutput(dataTable, element);\n",
              "          const docLink = document.createElement('div');\n",
              "          docLink.innerHTML = docLinkHtml;\n",
              "          element.appendChild(docLink);\n",
              "        }\n",
              "      </script>\n",
              "    </div>\n",
              "  </div>\n",
              "  "
            ]
          },
          "metadata": {},
          "execution_count": 23
        }
      ]
    }
  ]
}